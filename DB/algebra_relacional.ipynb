{
 "cells": [
  {
   "cell_type": "markdown",
   "metadata": {},
   "source": [
    "# Ejercicios de álgebra relacional\n",
    "### Do Hyun Nam, A01025276"
   ]
  },
  {
   "cell_type": "markdown",
   "metadata": {},
   "source": [
    "1. Apellidos y nombre de los participantes de nacionalidad mexicana.\n",
    "2. Apellidos, nombre y puntos acumulados de los participantes de USA.\n",
    "3. Apellidos y nombre de los participantes que se clasificaron en primer lugar en al menos una competencia.\n",
    "4. Nombre de las competencias en las que intervinieron los participantes mexicanos.\n",
    "5. Apellidos y nombre de los participantes que nunca se clasificaron en primer lugar en alguna competencia.\n",
    "6. Apellidos y nombre de los participantes siempre se clasificaron en alguna competencia.\n",
    "7. Nombre de la competencia que aporta el máximo de puntos.\n",
    "8. Países (nacionalidades) que participaron en todas las competencias."
   ]
  },
  {
   "cell_type": "markdown",
   "metadata": {},
   "source": [
    "Solucion\n",
    "1. $\\Pi_{APELLIDO, NOMBRE}(\\sigma_{NACIONALIDAD = 'Mexicana'}(Participantes))$\n",
    "2. $\\sigma_{NACIONALIDAD = 'Estadounidense'}(\\Pi_{APELLIDO, NOMBRE, PUNTOS ACUMULADOS}(Participantes \\Join Puntos Acumulados))$\n",
    "3. $\\sigma_{LUGAR = 1}(\\Pi_{APELLIDO, NOMBRE}(Participantes \\Join Clasificacion))$ *\n",
    "4. $\\sigma_{NACIONALIDAD = 'Mexicana'}(\\Pi_{NOMBRE DE COMPETENCIA}(Clasificacion \\Join Clasificacion))$\n",
    "5. $\\Pi_{APELLIDO, NOMBRE}(\\sigma_{LUGAR \\neq 1)}$ *\n",
    "6. $\\Pi_{APELLIDO, NOMBRE}(Participantes) \\cap \\Pi_{APELLIDO, NOMBRE}(Clasificacion)$\n",
    "7. $\\sigma_{NOMBRE DE COMPETENCIA}(\\sigma_{NUMERO DE PUNTOS = 3}(Competencia))$\n",
    "8. $\\Pi_{NACIONALIDAD}(Participantes \\Join Clasificacion)$\n",
    "\n",
    "\n"
   ]
  },
  {
   "cell_type": "markdown",
   "metadata": {},
   "source": []
  },
  {
   "cell_type": "code",
   "execution_count": null,
   "metadata": {
    "vscode": {
     "languageId": "plaintext"
    }
   },
   "outputs": [],
   "source": []
  }
 ],
 "metadata": {
  "language_info": {
   "name": "python"
  },
  "orig_nbformat": 4
 },
 "nbformat": 4,
 "nbformat_minor": 2
}
