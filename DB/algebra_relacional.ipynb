{
 "cells": [
  {
   "cell_type": "markdown",
   "metadata": {},
   "source": [
    "# Ejercicios de álgebra relacional\n",
    "### Do Hyun Nam, A01025276"
   ]
  },
  {
   "cell_type": "markdown",
   "metadata": {},
   "source": [
    "1. Apellidos y nombre de los participantes de nacionalidad mexicana.\n",
    "2. Apellidos, nombre y puntos acumulados de los participantes de USA.\n",
    "3. Apellidos y nombre de los participantes que se clasificaron en primer lugar en al menos una competencia.\n",
    "4. Nombre de las competencias en las que intervinieron los participantes mexicanos.\n",
    "5. Apellidos y nombre de los participantes que nunca se clasificaron en primer lugar en alguna competencia.\n",
    "6. Apellidos y nombre de los participantes siempre se clasificaron en alguna competencia.\n",
    "7. Nombre de la competencia que aporta el máximo de puntos.\n",
    "8. Países (nacionalidades) que participaron en todas las competencias."
   ]
  },
  {
   "cell_type": "markdown",
   "metadata": {},
   "source": [
    "Solucion\n",
    "1. $\\Pi$ APELLIDO, NOMBRE ($\\sigma$ NACIONALIDAD = 'Mexicana'(Participantes))\n",
    "2. $\\sigma$ NACIONALIDAD = 'Estadounidense'($\\Pi$ APELLIDO, NOMBRE, PUNTOS ACUMULADOS(Participantes $\\Join$ Puntos Acumulados))\n",
    "3. $\\sigma$ LUGAR = 1($\\Pi$ APELLIDO, NOMBRE (Participantes $\\Join$ Clasificacion)) *\n",
    "4. $\\sigma$ NACIONALIDAD = 'Mexicana'($\\Pi$ NOMBRE DE COMPETENCIA(Clasificacion $\\Join$ Clasificacion))\n",
    "5. $\\Pi$ APELLIDO, NOMBRE ($\\sigma$ LUGAR $\\neq$ 1) *\n",
    "6. $\\sigma$ NOMBRE DE COMPETENCIA($\\sigma$ NUMERO DE PUNTOS = 3(Competencia))\n",
    "\n",
    "\n"
   ]
  },
  {
   "cell_type": "markdown",
   "metadata": {},
   "source": []
  },
  {
   "cell_type": "code",
   "execution_count": null,
   "metadata": {
    "vscode": {
     "languageId": "plaintext"
    }
   },
   "outputs": [],
   "source": []
  }
 ],
 "metadata": {
  "language_info": {
   "name": "python"
  },
  "orig_nbformat": 4
 },
 "nbformat": 4,
 "nbformat_minor": 2
}
